{
  "nbformat": 4,
  "nbformat_minor": 0,
  "metadata": {
    "colab": {
      "name": "Celcius to Farenheit.ipynb",
      "version": "0.3.2",
      "provenance": [],
      "collapsed_sections": [],
      "include_colab_link": true
    },
    "kernelspec": {
      "name": "python3",
      "display_name": "Python 3"
    }
  },
  "cells": [
    {
      "cell_type": "markdown",
      "metadata": {
        "id": "view-in-github",
        "colab_type": "text"
      },
      "source": [
        "<a href=\"https://colab.research.google.com/github/Twoarms/workshop_python_machine-learning/blob/master/Parcours/2_Machine_Learning/Celcius_to_Farenheit.ipynb\" target=\"_parent\"><img src=\"https://colab.research.google.com/assets/colab-badge.svg\" alt=\"Open In Colab\"/></a>"
      ]
    },
    {
      "metadata": {
        "id": "oOJIXVqGsjEs",
        "colab_type": "text"
      },
      "cell_type": "markdown",
      "source": [
        "# Import des dépendances"
      ]
    },
    {
      "metadata": {
        "id": "hUAdExqEv5lq",
        "colab_type": "text"
      },
      "cell_type": "markdown",
      "source": [
        "Nous importons TensorFlow (Librairie machine learning) et lui indiquons de n'afficher que les erreurs, ainsi que NumPy(Librairie Science Computing)"
      ]
    },
    {
      "metadata": {
        "id": "1osCIE4Qv3JM",
        "colab_type": "code",
        "colab": {}
      },
      "cell_type": "code",
      "source": [
        "# Cette ligne est là pour des raisons de compatibilité\n",
        "from __future__ import absolute_import, division, print_function\n",
        "#TensorFlow\n",
        "import tensorflow as tf\n",
        "tf.logging.set_verbosity(tf.logging.ERROR)\n",
        "#NumPy\n",
        "import numpy as np"
      ],
      "execution_count": 0,
      "outputs": []
    },
    {
      "metadata": {
        "id": "4JcR-qjjw-VU",
        "colab_type": "text"
      },
      "cell_type": "markdown",
      "source": [
        "# Données d'entrainement"
      ]
    },
    {
      "metadata": {
        "id": "UcrGmO62xBNL",
        "colab_type": "text"
      },
      "cell_type": "markdown",
      "source": [
        "Nous créons les données sur lesquelles l'algorithme va s'entrainer. Nous lui donnons une liste d'input et d'ouput, la fonction de notre algorithme va être de découvrir comment obtenir les output donnés à partir des inputs donnés."
      ]
    },
    {
      "metadata": {
        "id": "qm2nyA8pxe5S",
        "colab_type": "code",
        "colab": {}
      },
      "cell_type": "code",
      "source": [
        "# Feature*\n",
        "celsius_q    = np.array([-40, -10,  0,  8, 15, 22,  38],  dtype=float)\n",
        "# Labels*\n",
        "fahrenheit_a = np.array([-40,  14, 32, 46, 59, 72, 100],  dtype=float)\n",
        "\n",
        "for i,c in enumerate(celsius_q):\n",
        "  print(\"{} degrees Celsius = {} degrees Fahrenheit\".format(c, fahrenheit_a[i]))"
      ],
      "execution_count": 0,
      "outputs": []
    },
    {
      "metadata": {
        "id": "qyqfWhz4yG3y",
        "colab_type": "text"
      },
      "cell_type": "markdown",
      "source": [
        "Note : Chaque terme suivi d'un astérique sera expliqué dans le glossaire, il s'agit (généralement) d'un mot propre à la terminologie du machine learning."
      ]
    },
    {
      "metadata": {
        "id": "sfSw-9IMy1vN",
        "colab_type": "text"
      },
      "cell_type": "markdown",
      "source": [
        "# Création d'un modèle"
      ]
    },
    {
      "metadata": {
        "id": "rVQu5jZ5y7uz",
        "colab_type": "text"
      },
      "cell_type": "markdown",
      "source": [
        "Il existe différentes sortes de modèles, nous utiliserons ici le plus simple, le \"Dense network\".\n",
        "C'est un type de réseau neuronal où chaque neurone d'une couche(layer) est relié à chacun des neurones de la couche précédente.\n",
        "\n",
        "Le problème présenté ici étant assez simple et direct, le réseau sera composé d'une seule couche avec un seul neurone."
      ]
    },
    {
      "metadata": {
        "id": "CJ7cq896zzoa",
        "colab_type": "text"
      },
      "cell_type": "markdown",
      "source": [
        "### Création du layer*\n",
        "\n",
        "Nous appelerons cette couche ```l0```  (C'est un L comme layer, pas un 1)"
      ]
    },
    {
      "metadata": {
        "id": "3uMMXuf-zdmb",
        "colab_type": "code",
        "colab": {}
      },
      "cell_type": "code",
      "source": [
        "l0 = tf.keras.layers.Dense(units=1, input_shape=[1]) "
      ],
      "execution_count": 0,
      "outputs": []
    },
    {
      "metadata": {
        "id": "Hx7kDCm_0mDT",
        "colab_type": "text"
      },
      "cell_type": "markdown",
      "source": [
        "Décortiquons ce code :\n",
        "\n",
        "Nous instancions ```tf.keras.layers.Dense``` pour créer le fameux réseau Dense.\n",
        "\n",
        "```units=1``` signifie que la couche n'est consituée que d'un neurone. C'est le nombre de neurones qui déterminera le nombre de variables internes cachées que la couche devra essayer pour apprendre à régler le problème.\n",
        "\n",
        "Comme cette couche est la couche finale, 1 est également la taille de l'output du modèle : notre température en Farenheit\n",
        "\n",
        "```input_shape=[1]``` signifie que l'input pour cette couche est une seule valeur (Un tableau unidimensionnel d'une seule valeur) : notre température en Celsius\n",
        "\n",
        "Dans le cas d'un modèle multicouche, la taille et la forme d'une couche doit correspondre à l'input_shape de la prochaine couche."
      ]
    },
    {
      "metadata": {
        "id": "Ptu014vhBjWN",
        "colab_type": "text"
      },
      "cell_type": "markdown",
      "source": [
        "### Création du modèle par assemblage des couches"
      ]
    },
    {
      "metadata": {
        "id": "U_XbykYhBnet",
        "colab_type": "text"
      },
      "cell_type": "markdown",
      "source": [
        "Une fois que les couches sont définies, elles doivent être assemblées pour former le modèle. La définition séquentielle du modèle prend une liste de couches en argument et définit l'ordre de calcul de l'input jusqu'à l'output.\n",
        "\n",
        "Ce modèle est constitué d'une unique couche : ```l0```"
      ]
    },
    {
      "metadata": {
        "id": "wesL0wVXCLJV",
        "colab_type": "code",
        "colab": {}
      },
      "cell_type": "code",
      "source": [
        "model = tf.keras.Sequential([l0])"
      ],
      "execution_count": 0,
      "outputs": []
    },
    {
      "metadata": {
        "id": "XjnW0ZSXCOU8",
        "colab_type": "text"
      },
      "cell_type": "markdown",
      "source": [
        "Note :\n",
        "\n",
        "Il est possible de définir chaque couche lors de la définitions du modèle plutôt que les définir à l'avance\n",
        "```\n",
        "model = tf.keras.Sequential([\n",
        "  tf.keras.layers.Dense(units=1, input_shape=[1])\n",
        "])\n",
        "\n",
        "```"
      ]
    },
    {
      "metadata": {
        "id": "gjXg84vJE_CW",
        "colab_type": "text"
      },
      "cell_type": "markdown",
      "source": [
        "### Compiler le modèle, avec les fonctions perte et optimiseur"
      ]
    },
    {
      "metadata": {
        "id": "EofLv9jgFItN",
        "colab_type": "text"
      },
      "cell_type": "markdown",
      "source": [
        "Avant de pouvoir entrainer le modèle(le réseau de neurone), il faut le compiler :\n",
        "Lors de la compilation du modèle, on lui donne une ```fonction perte*``` et une ```fonction optimiseur*```"
      ]
    },
    {
      "metadata": {
        "id": "lXFbxHV7INV4",
        "colab_type": "code",
        "colab": {}
      },
      "cell_type": "code",
      "source": [
        "model.compile(loss='mean_squared_error',\n",
        "              optimizer=tf.keras.optimizers.Adam(0.1))"
      ],
      "execution_count": 0,
      "outputs": []
    },
    {
      "metadata": {
        "id": "AY5CM0wQIcGk",
        "colab_type": "text"
      },
      "cell_type": "markdown",
      "source": [
        "Ces fonctions sont utilisées durant l'entrainement, pour calculer la perte à chaque essai et ensuite la diminuer. C'est simplement ce en quoi consiste l'entrainement.\n",
        "\n",
        "L'optimiseur est utilisé pour calculer les ajustements à produire sur les variables internes(cachées) du modèle dans le but d'approcher l'équation qui convertit les Celsius en Fahrenheit.\n",
        "\n",
        "Il existe évidemment d'autres fonction perte et optimiseur en fonction de la tâche et de la complexité de celle-ci.\n",
        "\n",
        "Le ```(0.1)``` de la fonction optimiseur est le taux d'ajustement lors de l'apprentissage, une trop faible valeur prendrait trop d'itérations pour entrainer le modèle, mais une valeur trop importante réduirait la précision. Trouver la bonne valeur est souvent une affaire d'essai-erreur et se trouve souvent dans la fourchette 0.001(valeur par défaut) et 0.1"
      ]
    },
    {
      "metadata": {
        "id": "oT-l3hTyKWm1",
        "colab_type": "text"
      },
      "cell_type": "markdown",
      "source": [
        "# Entrainer le modèle"
      ]
    },
    {
      "metadata": {
        "id": "bPUrykG5KZ4k",
        "colab_type": "text"
      },
      "cell_type": "markdown",
      "source": [
        "Nous avons nos données d'entraînement, nous avons défini le modèle et les couches qui le composent, nous avons compilé notre modèle...\n",
        "L'heure est venue d'entrainer celui-ci"
      ]
    },
    {
      "metadata": {
        "id": "Wtm1EYOfKvJ9",
        "colab_type": "text"
      },
      "cell_type": "markdown",
      "source": [
        "Pour ce faire, nous appelons la méthode ```fit```.\n",
        "\n",
        "Durant l'entrainement, le modèle prend en input les degrés Celsius, effectue des calculs en utilisants les variables internes actuelles (appelées \"weights*\") et donne en output les valeurs qui sont censées êtres nos degrés Fahrenheit. Les weights sont initiatalement définies au hasard et nos premiers outputs seront donc bien les des valeurs attendues.\n",
        "La fonction perte calcule la différence entre l'output produit et l'input produit(la perte), et la fonction optimiseur détermine comment vont s'ajuster les weights."
      ]
    },
    {
      "metadata": {
        "id": "3UMrAFZpKm83",
        "colab_type": "code",
        "colab": {}
      },
      "cell_type": "code",
      "source": [
        "history = model.fit(celsius_q, fahrenheit_a, epochs=500, verbose=False)\n",
        "print(\"Finished training the model\")"
      ],
      "execution_count": 0,
      "outputs": []
    },
    {
      "metadata": {
        "id": "r8o8859FNWw9",
        "colab_type": "text"
      },
      "cell_type": "markdown",
      "source": [
        "\n",
        "La méthode ```fit``` contrôle les cycles de calcul, comparaison et ajustement. La méthode prends les inputs comme premier argument, l'output attendu comme second argument.\n",
        "\n",
        "L'argument \"epoch\" détermine combien de cycles vont êtres éxécutés, et l'argument \"verbose\" contrôle le nombre d'output produits par la méthode."
      ]
    },
    {
      "metadata": {
        "id": "m4GTKlilOAql",
        "colab_type": "text"
      },
      "cell_type": "markdown",
      "source": [
        "La méthode fit retourne un objet \"historique\". Nous pouvons utiliser cette objet pour représenter graphiquement l'évolution de la perte à chaque \"epoch\"(cycle).\n",
        "\n",
        "Nous utilisons la librairie ```Matplotlib``` pour visualiser cela."
      ]
    },
    {
      "metadata": {
        "id": "TGNAPu5dOuCF",
        "colab_type": "code",
        "colab": {}
      },
      "cell_type": "code",
      "source": [
        "import matplotlib.pyplot as plt\n",
        "plt.xlabel('Epoch Number')\n",
        "plt.ylabel(\"Loss Magnitude\")\n",
        "plt.plot(history.history['loss'])"
      ],
      "execution_count": 0,
      "outputs": []
    },
    {
      "metadata": {
        "id": "gll7_9LYOxSl",
        "colab_type": "text"
      },
      "cell_type": "markdown",
      "source": [
        "# Utilisation du modèle"
      ]
    },
    {
      "metadata": {
        "id": "jt7vog4uPMsV",
        "colab_type": "text"
      },
      "cell_type": "markdown",
      "source": [
        "Nous avons maintenant un modèle entrainé à prédire des températures en Fahrenheit à partir de températures en Celsius.\n",
        "\n",
        "Nous allons l'utiliser pour prédire la valeur en Fahrenheit d'une valeur en Celsius inconnue par notre algorithme jusqu'ici."
      ]
    },
    {
      "metadata": {
        "id": "aVIxOSgFPNxW",
        "colab_type": "code",
        "colab": {}
      },
      "cell_type": "code",
      "source": [
        "print(model.predict([100.0]))"
      ],
      "execution_count": 0,
      "outputs": []
    },
    {
      "metadata": {
        "id": "gE_WYMbeQML2",
        "colab_type": "text"
      },
      "cell_type": "markdown",
      "source": [
        "La réponse attendue est 100 * 1.8 + 32 = 212. On en est vraiment pas loin !"
      ]
    },
    {
      "metadata": {
        "id": "7hNRrDxXQcOn",
        "colab_type": "text"
      },
      "cell_type": "markdown",
      "source": [
        "### Résumé"
      ]
    },
    {
      "metadata": {
        "id": "SZ5F-MTBQeze",
        "colab_type": "text"
      },
      "cell_type": "markdown",
      "source": [
        "Nous avons dans un premier temps créé un modèle de type Dense : Un réseau de neurone où chaque neurone de chaque couche est relié à chacun des neurones de la couche précédente. (1 input, 1 couche qui produit un outpout, cela me parait logique)\n",
        "\n",
        "Nous l'avons entrainé avec 3500 exemples* (7 paires, 500 cycles)"
      ]
    },
    {
      "metadata": {
        "id": "KwOJnAo_Rvym",
        "colab_type": "text"
      },
      "cell_type": "markdown",
      "source": [
        "### Petit coup d'oeil aux variables internes"
      ]
    },
    {
      "metadata": {
        "id": "dmikPUZiSHl2",
        "colab_type": "code",
        "colab": {}
      },
      "cell_type": "code",
      "source": [
        "print(\"Voici les variables internes: {}\".format(l0.get_weights()))"
      ],
      "execution_count": 0,
      "outputs": []
    },
    {
      "metadata": {
        "id": "3eXYnzrvSFov",
        "colab_type": "text"
      },
      "cell_type": "markdown",
      "source": [
        "Notre première variable est presque de 1.8, la seconde est très proche de 32 qui sont les variables de la vraie formule de conversion. \n",
        "\n",
        "Lorsqu'on a un seul input, pour un seul neurone pour un seul outpout, le calcul effectué est semblable à l'équation d'une droite ```y = mx + b``` qui a la même forme que l'équation de conversion Celsius vers Fahrenheit : f = 1.8c + 32\n",
        "\n",
        "Plus il y a de neurones, d'inputs et d'outputs, plus la formule devient complexe mais c'est toujours le même principe."
      ]
    },
    {
      "metadata": {
        "id": "HRRA_ySgR4r1",
        "colab_type": "code",
        "colab": {}
      },
      "cell_type": "code",
      "source": [
        ""
      ],
      "execution_count": 0,
      "outputs": []
    }
  ]
}