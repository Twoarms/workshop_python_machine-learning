{
  "nbformat": 4,
  "nbformat_minor": 0,
  "metadata": {
    "colab": {
      "name": "Fonctions.ipynb",
      "version": "0.3.2",
      "provenance": [],
      "collapsed_sections": [],
      "include_colab_link": true
    },
    "kernelspec": {
      "name": "python3",
      "display_name": "Python 3"
    }
  },
  "cells": [
    {
      "cell_type": "markdown",
      "metadata": {
        "id": "view-in-github",
        "colab_type": "text"
      },
      "source": [
        "<a href=\"https://colab.research.google.com/github/Twoarms/workshop_python_machine-learning/blob/master/Parcours/1_Python/Fonctions.ipynb\" target=\"_parent\"><img src=\"https://colab.research.google.com/assets/colab-badge.svg\" alt=\"Open In Colab\"/></a>"
      ]
    },
    {
      "metadata": {
        "id": "0tFKvMIP8iHW",
        "colab_type": "text"
      },
      "cell_type": "markdown",
      "source": [
        "En te servant de ce qu'on a vu, crée une fonction qui prend en argument une phrase que tu auras préalablement récoltée avec un input auprès de l'utilisateur et qui compte le nombre de voyelles présentes dans cette même phrase. Cette fonction doit retourner un dictionnaire avec pour clés les voyelles et pour valeurs leur compte."
      ]
    },
    {
      "metadata": {
        "id": "TW9uo4Hk9SL0",
        "colab_type": "code",
        "colab": {}
      },
      "cell_type": "code",
      "source": [
        ""
      ],
      "execution_count": 0,
      "outputs": []
    }
  ]
}