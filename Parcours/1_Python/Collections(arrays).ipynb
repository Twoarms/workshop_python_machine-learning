{
  "nbformat": 4,
  "nbformat_minor": 0,
  "metadata": {
    "colab": {
      "name": "Collections(arrays).ipynb",
      "version": "0.3.2",
      "provenance": [],
      "include_colab_link": true
    },
    "kernelspec": {
      "name": "python3",
      "display_name": "Python 3"
    }
  },
  "cells": [
    {
      "cell_type": "markdown",
      "metadata": {
        "id": "view-in-github",
        "colab_type": "text"
      },
      "source": [
        "<a href=\"https://colab.research.google.com/github/Twoarms/workshop_python_machine-learning/blob/master/Parcours/1_Python/Collections(arrays).ipynb\" target=\"_parent\"><img src=\"https://colab.research.google.com/assets/colab-badge.svg\" alt=\"Open In Colab\"/></a>"
      ]
    },
    {
      "metadata": {
        "id": "nC_WIk8BARtY",
        "colab_type": "text"
      },
      "cell_type": "markdown",
      "source": [
        "Il existe 4 types de collection en python :\n",
        " - List\n",
        " - Tuple\n",
        " - Set\n",
        " - Dictionnary"
      ]
    },
    {
      "metadata": {
        "id": "SEX1aUlKEfce",
        "colab_type": "text"
      },
      "cell_type": "markdown",
      "source": [
        "# List"
      ]
    },
    {
      "metadata": {
        "id": "3asgZlu3Ejs9",
        "colab_type": "text"
      },
      "cell_type": "markdown",
      "source": [
        "Tout d'abord écécute les codes suivants :"
      ]
    },
    {
      "metadata": {
        "id": "JWYpsUSTA7Gd",
        "colab_type": "code",
        "colab": {}
      },
      "cell_type": "code",
      "source": [
        "list = [1, 2, 1, 6, 5, \"Bonjour\", \"Python\", 15, 20, 78, 78]\n",
        "list"
      ],
      "execution_count": 0,
      "outputs": []
    },
    {
      "metadata": {
        "id": "l9Vc8VOpJXPh",
        "colab_type": "code",
        "colab": {}
      },
      "cell_type": "code",
      "source": [
        "list[0] = 2\n",
        "list"
      ],
      "execution_count": 0,
      "outputs": []
    },
    {
      "metadata": {
        "id": "p_KpUyqOBT7V",
        "colab_type": "text"
      },
      "cell_type": "markdown",
      "source": [
        "Comme vous pouvez le voir, une liste peut contenir des doublons et des éléments de types différents. On peut aussi modifier la valeur d'un certain élément en réassignant une autre valeur à son index. C'est l'équivalent de l'array simple en javascript et php"
      ]
    },
    {
      "metadata": {
        "id": "E10BJF0vBmRH",
        "colab_type": "text"
      },
      "cell_type": "markdown",
      "source": [
        "Crée un code qui affiche \"6 trouvé\" si 6 se trouve dans la list, \"pas de 6 trouvé\" si 6 ne se trouve pas dans la liste."
      ]
    },
    {
      "metadata": {
        "id": "tQfig5Z4B-1l",
        "colab_type": "code",
        "colab": {}
      },
      "cell_type": "code",
      "source": [
        ""
      ],
      "execution_count": 0,
      "outputs": []
    },
    {
      "metadata": {
        "id": "kM2UeAFkB_Mk",
        "colab_type": "text"
      },
      "cell_type": "markdown",
      "source": [
        "Maintenant, exécute le code suivant et rééxécute la cellule contenant le code que tu viens d'écrire."
      ]
    },
    {
      "metadata": {
        "id": "qePXyYL4CJXO",
        "colab_type": "code",
        "colab": {}
      },
      "cell_type": "code",
      "source": [
        "list.remove(6)"
      ],
      "execution_count": 0,
      "outputs": []
    },
    {
      "metadata": {
        "id": "vyrf1UvJCPZG",
        "colab_type": "text"
      },
      "cell_type": "markdown",
      "source": [
        "Comme tu peux le voir, les variables sont disponibles depuis n'importe quelle cellule. Ce n'est pas l'ordre dans lequel les blocs de code sont placés mais leur ordre d'éxécution qui importe. Tu peux voir entre les crochets à gauche de la cellule le numéro d'éxécution de celle-ci. Ce fonctionnement est bien sûr valable uniquement pour cet environnement. Dans un environnement classique, le code s'éxécute dans l'ordre dans lequel il est placé, comme d'habitude."
      ]
    },
    {
      "metadata": {
        "id": "SXrbo--3EzUe",
        "colab_type": "text"
      },
      "cell_type": "markdown",
      "source": [
        "Je t'ai montré la méthode ```remove```, mais il existe aussi ```append, pop, insert``` et ```extend```.\n",
        "\n",
        "Cherche leur fonctionnement et utilise chacune d'entre-elle sur ```list``` en affichant le résultat.\n"
      ]
    },
    {
      "metadata": {
        "id": "QKvktcDsF4Sv",
        "colab_type": "code",
        "colab": {}
      },
      "cell_type": "code",
      "source": [
        "#remove"
      ],
      "execution_count": 0,
      "outputs": []
    },
    {
      "metadata": {
        "id": "v5EYtrWHF40e",
        "colab_type": "code",
        "colab": {}
      },
      "cell_type": "code",
      "source": [
        "#append"
      ],
      "execution_count": 0,
      "outputs": []
    },
    {
      "metadata": {
        "id": "Dt3a8RvhF55n",
        "colab_type": "code",
        "colab": {}
      },
      "cell_type": "code",
      "source": [
        "#pop"
      ],
      "execution_count": 0,
      "outputs": []
    },
    {
      "metadata": {
        "id": "nFWRdv8RF5XG",
        "colab_type": "code",
        "colab": {}
      },
      "cell_type": "code",
      "source": [
        "#insert"
      ],
      "execution_count": 0,
      "outputs": []
    },
    {
      "metadata": {
        "id": "OLv3pE5qFgtP",
        "colab_type": "code",
        "colab": {}
      },
      "cell_type": "code",
      "source": [
        "#extend"
      ],
      "execution_count": 0,
      "outputs": []
    },
    {
      "metadata": {
        "id": "lc1MithOGLum",
        "colab_type": "text"
      },
      "cell_type": "markdown",
      "source": [
        "Pour écrire un commentaire un python, précède celui-ci de ```#```\n",
        "\n",
        "Tu peux également\n",
        "```\n",
        "'''\n",
        "Ecrire un commentaire\n",
        "sur plusieurs lignes\n",
        "'''```"
      ]
    },
    {
      "metadata": {
        "id": "y_V6S_e8JpQK",
        "colab_type": "text"
      },
      "cell_type": "markdown",
      "source": [
        "Dans les cellules suivantes, écris le code qui te permet d'afficher..."
      ]
    },
    {
      "metadata": {
        "id": "VMjoX7dcJxqV",
        "colab_type": "code",
        "colab": {}
      },
      "cell_type": "code",
      "source": [
        "#Les 4 premiers éléments"
      ],
      "execution_count": 0,
      "outputs": []
    },
    {
      "metadata": {
        "id": "9gAwAAfHJ15-",
        "colab_type": "code",
        "colab": {}
      },
      "cell_type": "code",
      "source": [
        "#les 6 derniers éléments"
      ],
      "execution_count": 0,
      "outputs": []
    },
    {
      "metadata": {
        "id": "gwA4NX9BJ7lY",
        "colab_type": "code",
        "colab": {}
      },
      "cell_type": "code",
      "source": [
        "#les éléments 2 à 4"
      ],
      "execution_count": 0,
      "outputs": []
    },
    {
      "metadata": {
        "id": "o1xcM4G5KIHG",
        "colab_type": "code",
        "colab": {}
      },
      "cell_type": "code",
      "source": [
        "#un éléments sur deux, en commençant à l'index 3"
      ],
      "execution_count": 0,
      "outputs": []
    },
    {
      "metadata": {
        "id": "ucfKwZuYKTCA",
        "colab_type": "code",
        "colab": {}
      },
      "cell_type": "code",
      "source": [
        "#tous les éléments du dernier au premier"
      ],
      "execution_count": 0,
      "outputs": []
    },
    {
      "metadata": {
        "id": "B_V5dX09Kh5_",
        "colab_type": "text"
      },
      "cell_type": "markdown",
      "source": [
        "List slicing : C'est ce que tu dois rechercher pour effectuer les exercices précédents, si ton code ne ressemble pas à ça : ```list[x:y(:z)]```"
      ]
    },
    {
      "metadata": {
        "id": "nQsPgwk6NF2o",
        "colab_type": "text"
      },
      "cell_type": "markdown",
      "source": [
        "# Dictionnary"
      ]
    },
    {
      "metadata": {
        "id": "-7fTAuD_NKdW",
        "colab_type": "text"
      },
      "cell_type": "markdown",
      "source": [
        "Un dictionnaire permet de stocker une ou plusieurs paire(s) de clé-valeur. C'est l'équivalent de l'associative array en javascript et php.\n",
        "\n",
        "Exécute le code suivant :"
      ]
    },
    {
      "metadata": {
        "id": "sMEDfhoGOijW",
        "colab_type": "code",
        "colab": {}
      },
      "cell_type": "code",
      "source": [
        "dict = {'nom': 'Mathieu', 'workshop': 'Python et Machine Learning', 'promo': 'Turing'}\n",
        "print(dict['nom'])\n",
        "print(dict['promo'])\n",
        "print(dict['workshop'])"
      ],
      "execution_count": 0,
      "outputs": []
    },
    {
      "metadata": {
        "id": "5geWIo4iPMhg",
        "colab_type": "text"
      },
      "cell_type": "markdown",
      "source": [
        "Mais comment faire si on veut pouvoir utiliser ```print(dict['age'])``` pour afficher 24, sans toucher à la déclaration initiale du dictionnaire ? Ecris le code nécessaire dans la cellule ci-dessous :"
      ]
    },
    {
      "metadata": {
        "id": "rOjhaUY-QDQn",
        "colab_type": "code",
        "colab": {}
      },
      "cell_type": "code",
      "source": [
        ""
      ],
      "execution_count": 0,
      "outputs": []
    },
    {
      "metadata": {
        "id": "mDf3oAOGTBVY",
        "colab_type": "text"
      },
      "cell_type": "markdown",
      "source": [
        "# Set"
      ]
    },
    {
      "metadata": {
        "id": "6yXwShAaTUeG",
        "colab_type": "text"
      },
      "cell_type": "markdown",
      "source": [
        "Exécute les codes suivants :"
      ]
    },
    {
      "metadata": {
        "id": "RA02EyeUTe4_",
        "colab_type": "code",
        "colab": {}
      },
      "cell_type": "code",
      "source": [
        "voyelles = set('aeiou')\n",
        "voyelles"
      ],
      "execution_count": 0,
      "outputs": []
    },
    {
      "metadata": {
        "id": "bVxdeUGsUHz-",
        "colab_type": "code",
        "colab": {}
      },
      "cell_type": "code",
      "source": [
        "voyelles.add('y')\n",
        "voyelles.add('e')\n",
        "voyelles"
      ],
      "execution_count": 0,
      "outputs": []
    },
    {
      "metadata": {
        "id": "tZIpgP7WUUjf",
        "colab_type": "text"
      },
      "cell_type": "markdown",
      "source": [
        "Tiens, 'y' s'est bien rajouté à voyelles, mais pas le deuxième 'e' ? C'est parce qu'un set ne peut pas contenir de doublons.\n",
        "\n",
        "Maintenant exécute le code suivant :"
      ]
    },
    {
      "metadata": {
        "id": "MSmAFE1_VpoY",
        "colab_type": "code",
        "colab": {}
      },
      "cell_type": "code",
      "source": [
        "word = input('Entre un mot ')"
      ],
      "execution_count": 0,
      "outputs": []
    },
    {
      "metadata": {
        "id": "KD0001KHWOh4",
        "colab_type": "text"
      },
      "cell_type": "markdown",
      "source": [
        "Une fois le mot entré, exécute les codes suivant et devine que font ces méthodes :"
      ]
    },
    {
      "metadata": {
        "id": "TNiT7_KqW2h_",
        "colab_type": "code",
        "colab": {}
      },
      "cell_type": "code",
      "source": [
        "union = voyelles.union(set(word))\n",
        "union"
      ],
      "execution_count": 0,
      "outputs": []
    },
    {
      "metadata": {
        "id": "XeuapbcJXAqZ",
        "colab_type": "code",
        "colab": {}
      },
      "cell_type": "code",
      "source": [
        "difference = voyelles.difference(set(word))\n",
        "difference"
      ],
      "execution_count": 0,
      "outputs": []
    },
    {
      "metadata": {
        "id": "sh1hQaP1XHCH",
        "colab_type": "code",
        "colab": {}
      },
      "cell_type": "code",
      "source": [
        "intersection = voyelles.intersection(set(word))\n",
        "intersection"
      ],
      "execution_count": 0,
      "outputs": []
    },
    {
      "metadata": {
        "id": "8oytjHb6XjpZ",
        "colab_type": "text"
      },
      "cell_type": "markdown",
      "source": [
        "# Tuple"
      ]
    },
    {
      "metadata": {
        "id": "vHpFsp6UXlnH",
        "colab_type": "text"
      },
      "cell_type": "markdown",
      "source": [
        "Exécude le code suivant :"
      ]
    },
    {
      "metadata": {
        "id": "Q_yy3k81X-kQ",
        "colab_type": "code",
        "colab": {}
      },
      "cell_type": "code",
      "source": [
        "tuple = ('a', 'b', 'c', 'd', 'e')\n",
        "tuple[2]"
      ],
      "execution_count": 0,
      "outputs": []
    },
    {
      "metadata": {
        "id": "WqtLzlvuYRUK",
        "colab_type": "text"
      },
      "cell_type": "markdown",
      "source": [
        "Maintenant éxécute la suite :"
      ]
    },
    {
      "metadata": {
        "id": "wRy_KnBDYT_R",
        "colab_type": "code",
        "colab": {}
      },
      "cell_type": "code",
      "source": [
        "tuple[2] = 'f'"
      ],
      "execution_count": 0,
      "outputs": []
    },
    {
      "metadata": {
        "id": "DKw9xuMkYajI",
        "colab_type": "text"
      },
      "cell_type": "markdown",
      "source": [
        "Mais que s'est-il passé ? C'est la particularité des Tuples : Une fois créés, ils ne peuvent plus être modifiés."
      ]
    }
  ]
}