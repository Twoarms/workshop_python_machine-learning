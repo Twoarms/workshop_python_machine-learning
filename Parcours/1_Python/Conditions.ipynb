{
  "nbformat": 4,
  "nbformat_minor": 0,
  "metadata": {
    "colab": {
      "name": "Conditions.ipynb",
      "version": "0.3.2",
      "provenance": [],
      "collapsed_sections": [],
      "include_colab_link": true
    },
    "kernelspec": {
      "name": "python3",
      "display_name": "Python 3"
    }
  },
  "cells": [
    {
      "cell_type": "markdown",
      "metadata": {
        "id": "view-in-github",
        "colab_type": "text"
      },
      "source": [
        "<a href=\"https://colab.research.google.com/github/Twoarms/workshop_python_machine-learning/blob/master/Parcours/1_Python/Conditions.ipynb\" target=\"_parent\"><img src=\"https://colab.research.google.com/assets/colab-badge.svg\" alt=\"Open In Colab\"/></a>"
      ]
    },
    {
      "metadata": {
        "id": "fLu9uPUi9OdH",
        "colab_type": "text"
      },
      "cell_type": "markdown",
      "source": [
        "Pour écrire un bloc de code qui ne s'exécute que lorsqu'une condition est remplie, il faut utiliser le mot clé ```if```.\n",
        "\n",
        "Si tu veux éxécuter un autre bloc de code lorsque cette condition n'est pas remplie, tu dois utiliser le mot clé ```else```.\n",
        "\n",
        "Si tu veux rajouter d'autres blocs de code qui ne s'exécuteront que si une ou plusieurs autre(s) condition(s) est/sont remplie(s), tu peux utiliser le mot clé ```elif```."
      ]
    },
    {
      "metadata": {
        "id": "q58PISiJBDWu",
        "colab_type": "text"
      },
      "cell_type": "markdown",
      "source": [
        "Dans la cellule vierge ci-dessous, tu vas demander à l'utilisateur la promo BeCode dont il fait partie grâce à un input et le stocker dans une variable."
      ]
    },
    {
      "metadata": {
        "id": "n7K0CDw4B-6D",
        "colab_type": "code",
        "colab": {}
      },
      "cell_type": "code",
      "source": [
        ""
      ],
      "execution_count": 0,
      "outputs": []
    },
    {
      "metadata": {
        "id": "-TjK01ICB_wp",
        "colab_type": "text"
      },
      "cell_type": "markdown",
      "source": [
        "Tu vas maintenant, dans cette autre cellule vierge ci-dessous, créer le code pour afficher à l'utilisateur qu'il a commencé la formation en septembre s'il a rentré \"Turing\" dans l'input, en janvier s'il a rentré \"Woods\", et enfin qu'il ne fait pas partie de BeCode Charleroi s'il a rentré quoi que ce soit d'autre."
      ]
    },
    {
      "metadata": {
        "id": "-xSZ9FgDCyoZ",
        "colab_type": "code",
        "colab": {}
      },
      "cell_type": "code",
      "source": [
        ""
      ],
      "execution_count": 0,
      "outputs": []
    }
  ]
}