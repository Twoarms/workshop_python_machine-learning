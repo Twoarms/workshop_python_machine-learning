{
  "nbformat": 4,
  "nbformat_minor": 0,
  "metadata": {
    "colab": {
      "name": "Boucles.ipynb",
      "version": "0.3.2",
      "provenance": [],
      "collapsed_sections": [],
      "include_colab_link": true
    },
    "kernelspec": {
      "name": "python3",
      "display_name": "Python 3"
    }
  },
  "cells": [
    {
      "cell_type": "markdown",
      "metadata": {
        "id": "view-in-github",
        "colab_type": "text"
      },
      "source": [
        "<a href=\"https://colab.research.google.com/github/Twoarms/workshop_python_machine-learning/blob/master/Parcours/1_Python/Boucles.ipynb\" target=\"_parent\"><img src=\"https://colab.research.google.com/assets/colab-badge.svg\" alt=\"Open In Colab\"/></a>"
      ]
    },
    {
      "metadata": {
        "id": "C1pT7F1PEGxH",
        "colab_type": "text"
      },
      "cell_type": "markdown",
      "source": [
        "La boucle For en python s'écrit avec les mots clés  ```for ... in```.\n",
        "\n",
        "Elle permet d'exécuter un bloc de code un nombre déterminé de fois.\n"
      ]
    },
    {
      "metadata": {
        "id": "xo3AC-S0GA6z",
        "colab_type": "text"
      },
      "cell_type": "markdown",
      "source": [
        "Dans la cellule vide qui suit, crée une boucle for qui va afficher les chiffres de 0 à 9."
      ]
    },
    {
      "metadata": {
        "id": "438qyrGaFTZC",
        "colab_type": "code",
        "colab": {}
      },
      "cell_type": "code",
      "source": [
        ""
      ],
      "execution_count": 0,
      "outputs": []
    },
    {
      "metadata": {
        "id": "8Sdrq0kOGG8M",
        "colab_type": "text"
      },
      "cell_type": "markdown",
      "source": [
        "Ensuite, crée une nouvelle boucle for qui va afficher les nombres pairs de 0 à 20."
      ]
    },
    {
      "metadata": {
        "id": "maUatcoIGoOC",
        "colab_type": "code",
        "colab": {}
      },
      "cell_type": "code",
      "source": [
        ""
      ],
      "execution_count": 0,
      "outputs": []
    },
    {
      "metadata": {
        "id": "BNl8JhwPGo_0",
        "colab_type": "text"
      },
      "cell_type": "markdown",
      "source": [
        "Enfin, crée une boucle for qui va afficher les chiffres de 9 à 0."
      ]
    },
    {
      "metadata": {
        "id": "i-tzGnF_6RfE",
        "colab_type": "code",
        "colab": {}
      },
      "cell_type": "code",
      "source": [
        ""
      ],
      "execution_count": 0,
      "outputs": []
    },
    {
      "metadata": {
        "id": "zk4nWDUU6S64",
        "colab_type": "text"
      },
      "cell_type": "markdown",
      "source": [
        "Cette boucle permet aussi d'itérer sur les éléments d'un iterable(list, string, ...).\n",
        "\n",
        "Utilise la boucle for pour afficher chaque caractère de la string suivante : \"Python est simple et amusant !\""
      ]
    },
    {
      "metadata": {
        "id": "OJQoT_5b7D1E",
        "colab_type": "code",
        "colab": {}
      },
      "cell_type": "code",
      "source": [
        ""
      ],
      "execution_count": 0,
      "outputs": []
    },
    {
      "metadata": {
        "id": "HU1MxAwK7GgU",
        "colab_type": "text"
      },
      "cell_type": "markdown",
      "source": [
        "Utilise la boucle for pour afficher chaque élement de la list suivante : [\"C'est\", \"vraiment\", \"trop\", \"facile\", \"!\"]"
      ]
    },
    {
      "metadata": {
        "id": "WG9Trom-7fel",
        "colab_type": "text"
      },
      "cell_type": "markdown",
      "source": [
        "On va maintenant passer à la boucle while, qui s'écrit avec le mot clé... Je te laisse deviner, tu ne devrais pas avoir trop de mal au vu des mot-clés pour les conditions et la boucle for."
      ]
    },
    {
      "metadata": {
        "id": "HFixr4x074U1",
        "colab_type": "text"
      },
      "cell_type": "markdown",
      "source": [
        "Petit rappel, la boucle while s'utilise pour répéter un bloc de code un nombre indéterminé de fois tant qu'une condition se vérifie.\n",
        "\n",
        "Crée une variable dans laquelle tu vas stocker l'integer 1, et ensuite crée une boucle while qui va multiplier le contenu de cette variable par 2 et afficher le résultat tant que celui-ci est inférieur ou égal à 1024."
      ]
    },
    {
      "metadata": {
        "id": "6-Il9E0w8-N8",
        "colab_type": "code",
        "colab": {}
      },
      "cell_type": "code",
      "source": [
        ""
      ],
      "execution_count": 0,
      "outputs": []
    }
  ]
}