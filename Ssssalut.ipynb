{
  "nbformat": 4,
  "nbformat_minor": 0,
  "metadata": {
    "colab": {
      "name": "Ssssalut.ipynb",
      "version": "0.3.2",
      "provenance": [],
      "collapsed_sections": [],
      "include_colab_link": true
    },
    "kernelspec": {
      "name": "python3",
      "display_name": "Python 3"
    }
  },
  "cells": [
    {
      "cell_type": "markdown",
      "metadata": {
        "id": "view-in-github",
        "colab_type": "text"
      },
      "source": [
        "<a href=\"https://colab.research.google.com/github/Twoarms/workshop_python_machine-learning/blob/master/Ssssalut.ipynb\" target=\"_parent\"><img src=\"https://colab.research.google.com/assets/colab-badge.svg\" alt=\"Open In Colab\"/></a>"
      ]
    },
    {
      "metadata": {
        "id": "BAz6rtgbiMpw",
        "colab_type": "text"
      },
      "cell_type": "markdown",
      "source": [
        "# \"Ssssssalut\"\n",
        "\n",
        "Dans un premier temps, tu vas... Simplement exécuter ce code ci après."
      ]
    },
    {
      "metadata": {
        "id": "4u1uXB9qmRNz",
        "colab_type": "code",
        "colab": {}
      },
      "cell_type": "code",
      "source": [
        "nom = input(\"Quel est ton nom ? \")"
      ],
      "execution_count": 0,
      "outputs": []
    },
    {
      "metadata": {
        "id": "Y72WWQdJ4ncM",
        "colab_type": "text"
      },
      "cell_type": "markdown",
      "source": [
        "Pour éxécuter le code, il suffit de placer la souris sur ```[ ]``` et de cliquer lorsque le bouton play apparaît. Tu peux également appuyer sur ```Ctrl + Enter``` lorsque le bloc est sélectionné.\n",
        "Une fois le bloc contenant le nom a été executé, exécute le code ci-dessous."
      ]
    },
    {
      "metadata": {
        "id": "Ui9uG1OQlPsz",
        "colab_type": "code",
        "colab": {}
      },
      "cell_type": "code",
      "source": [
        "hello = \"Ssssalut\"\n",
        "print(hello, nom)"
      ],
      "execution_count": 0,
      "outputs": []
    },
    {
      "metadata": {
        "id": "2TxrezHp8aiq",
        "colab_type": "text"
      },
      "cell_type": "markdown",
      "source": [
        "Voilà, tu viens d'apprendre comment déclarer une variable, lui assigner une valeur, afficher celle-ci et également comment récupérer un input utilisateur."
      ]
    }
  ]
}